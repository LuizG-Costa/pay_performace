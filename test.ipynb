{
 "cells": [
  {
   "cell_type": "code",
   "execution_count": 3,
   "id": "5f3b7cbd",
   "metadata": {},
   "outputs": [
    {
     "name": "stdout",
     "output_type": "stream",
     "text": [
      "✅ A conta é a mesma que a fornecida.\n",
      "Endereço da conta derivado da chave: 0x42fCb2Fac9b256e1522d3f199F0719a0a77Bc621\n"
     ]
    }
   ],
   "source": [
    "\n",
    "\n",
    "\n",
    "from web3 import Web3\n",
    "from eth_account import Account\n",
    "\n",
    "private_key = \"f2bc02b3d96abe54ee16ce1be10d57a6379f504d2dbec3898d9c625348e85634\"\n",
    "account = Account.from_key(private_key)\n",
    "\n",
    "if account.address == \"0x42fCb2Fac9b256e1522d3f199F0719a0a77Bc621\":\n",
    "    print(\"✅ A conta é a mesma que a fornecida.\")\n",
    "else:\n",
    "    print(\"❌ A conta é diferente da fornecida.\")\n",
    "\n",
    "print(f\"Endereço da conta derivado da chave: {account.address}\")\n"
   ]
  },
  {
   "cell_type": "code",
   "execution_count": 5,
   "id": "05e2ff89",
   "metadata": {},
   "outputs": [
    {
     "name": "stderr",
     "output_type": "stream",
     "text": [
      "python-dotenv could not parse statement starting at line 1\n",
      "python-dotenv could not parse statement starting at line 2\n"
     ]
    },
    {
     "name": "stdout",
     "output_type": "stream",
     "text": [
      "Chave privada convertida: f2bc02b3d96abe54ee16ce1be10d57a6379f504d2dbec3898d9c625348e85634\n"
     ]
    }
   ],
   "source": [
    "from web3 import Web3\n",
    "from dotenv import load_dotenv\n",
    "import os\n",
    "\n",
    "\n",
    "load_dotenv()\n",
    "\n",
    "INFURA_URL = os.getenv(\"INFURA_URL\")\n",
    "PRIVATE_KEY_HEX = os.getenv(\"PRIVATE_KEY\") # Lemos a chave como string hexadecimal\n",
    "PRIVATE_KEY = None # Inicializamos PRIVATE_KEY como None\n",
    "\n",
    "# --- ESSAS SÃO AS LINHAS CRUCIAIS PARA CONVERTER A CHAVE ---\n",
    "if PRIVATE_KEY_HEX:\n",
    "    # Remove '0x' se presente e converte a string hexadecimal para bytes\n",
    "    if PRIVATE_KEY_HEX.startswith('0x'):\n",
    "        PRIVATE_KEY = bytes.fromhex(PRIVATE_KEY_HEX[2:])\n",
    "    else:\n",
    "        PRIVATE_KEY = bytes.fromhex(PRIVATE_KEY_HEX)\n",
    "else:\n",
    "    raise ValueError(\"PRIVATE_KEY não encontrada no arquivo .env\")\n",
    "\n",
    "print(f\"Chave privada convertida: {PRIVATE_KEY.hex()}\")\n",
    "# Conectando ao Infura \n",
    "\n",
    "# --- FIM DAS LINHAS CRUCIAIS ---"
   ]
  },
  {
   "cell_type": "code",
   "execution_count": 6,
   "id": "a852c865",
   "metadata": {},
   "outputs": [
    {
     "name": "stderr",
     "output_type": "stream",
     "text": [
      "python-dotenv could not parse statement starting at line 1\n",
      "python-dotenv could not parse statement starting at line 2\n"
     ]
    },
    {
     "name": "stdout",
     "output_type": "stream",
     "text": [
      "Tamanho da chave privada: 32 bytes\n",
      "Chave privada: f2bc02b3d96abe54ee16ce1be10d57a6379f504d2dbec3898d9c625348e85634\n"
     ]
    }
   ],
   "source": [
    "from web3 import Web3\n",
    "from dotenv import load_dotenv\n",
    "import os\n",
    "\n",
    "load_dotenv()\n",
    "\n",
    "INFURA_URL = os.getenv(\"INFURA_URL\")\n",
    "PRIVATE_KEY_HEX = os.getenv(\"PRIVATE_KEY\")  # Lemos a chave como string hexadecimal\n",
    "\n",
    "# --- MODIFICAÇÃO AQUI ---\n",
    "if PRIVATE_KEY_HEX:\n",
    "    # Remove espaços em branco e '0x' se presente\n",
    "    cleaned_key = PRIVATE_KEY_HEX.strip().lower()\n",
    "    if cleaned_key.startswith('0x'):\n",
    "        cleaned_key = cleaned_key[2:]\n",
    "    \n",
    "    # Verifica se tem comprimento correto (64 caracteres hex = 32 bytes)\n",
    "    if len(cleaned_key) != 64:\n",
    "        raise ValueError(f\"Chave privada deve ter 64 caracteres hexadecimais (32 bytes). Temos {len(cleaned_key)}\")\n",
    "    \n",
    "    PRIVATE_KEY = bytes.fromhex(cleaned_key)\n",
    "else:\n",
    "    raise ValueError(\"PRIVATE_KEY não encontrada no arquivo .env\")\n",
    "# --- FIM DAS MODIFICAÇÕES ---\n",
    "\n",
    "web3 = Web3(Web3.HTTPProvider(INFURA_URL))\n",
    "\n",
    "print(f\"Tamanho da chave privada: {len(PRIVATE_KEY)} bytes\")\n",
    "print(f\"Chave privada: {PRIVATE_KEY.hex()}\")"
   ]
  },
  {
   "cell_type": "code",
   "execution_count": null,
   "id": "cdc4a5a0",
   "metadata": {},
   "outputs": [],
   "source": [
    "from web3 import Web3\n",
    "from dotenv import load_dotenv\n",
    "import os\n",
    "\n",
    "def registrar_pontuacao_blockchain(wallet_funcionario, pontos):\n",
    "    try:\n",
    "        conta = web3.eth.account.from_key(PRIVATE_KEY)\n",
    "        nonce = web3.eth.get_transaction_count(conta.address)\n",
    "\n",
    "        tx = contract.functions.registrarPontuacao(wallet_funcionario, int(pontos)).build_transaction({\n",
    "            'from': conta.address,\n",
    "            'nonce': nonce,\n",
    "            'gas': 250000,\n",
    "            'gasPrice': web3.to_wei('20', 'gwei')\n",
    "        })\n",
    "\n",
    "        # --- MODIFICAÇÃO AQUI ---\n",
    "        assinado = web3.eth.account.sign_transaction(tx, PRIVATE_KEY)\n",
    "        \n",
    "        # Para Web3.py v6+, usamos .rawTransaction diretamente do objeto assinado\n",
    "        signed_tx = conta.sign_transaction(tx)\n",
    "        tx_hash = web3.eth.send_raw_transaction(signed_tx.rawTransaction)\n",
    "        # --- FIM DA MODIFICAÇÃO ---\n",
    "        print(type(assinado))\n",
    "        print(dir(assinado))\n",
    "        return web3.to_hex(tx_hash)\n",
    "    except Exception as e:\n",
    "        return f\"Erro: {e}\"\n",
    "        \n",
    "\n",
    "\n",
    "  # Deve mostrar <class 'eth_account.datastructures.SignedTransaction'>\n",
    "   # Mostra todos os atributos disponíveis"
   ]
  }
 ],
 "metadata": {
  "kernelspec": {
   "display_name": "Python 3",
   "language": "python",
   "name": "python3"
  },
  "language_info": {
   "codemirror_mode": {
    "name": "ipython",
    "version": 3
   },
   "file_extension": ".py",
   "mimetype": "text/x-python",
   "name": "python",
   "nbconvert_exporter": "python",
   "pygments_lexer": "ipython3",
   "version": "3.13.2"
  }
 },
 "nbformat": 4,
 "nbformat_minor": 5
}
